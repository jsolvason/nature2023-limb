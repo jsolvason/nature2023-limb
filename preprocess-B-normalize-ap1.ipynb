{
 "cells": [
  {
   "cell_type": "code",
   "execution_count": 1,
   "metadata": {},
   "outputs": [
    {
     "name": "stdout",
     "output_type": "stream",
     "text": [
      "0 AAAAAAAA\n",
      "1 TTTTTTTT\n",
      "2 233.2\n",
      "3 -0.0348199938277517\n",
      "\n"
     ]
    }
   ],
   "source": [
    "\n",
    "import matplotlib.pyplot as plt\n",
    "\n",
    "fn='affinity-raw-data/Jun_Fos_8mers.txt'\n",
    "\n",
    "seq2rawaff={}\n",
    "for row in hf.read_tsv(fn,pc=True,header=False):\n",
    "    fwd,rev=row[:2]\n",
    "    medInt=row[2]\n",
    "    seq2rawaff[fwd]=float(medInt)\n",
    "    seq2rawaff[rev]=float(medInt)    "
   ]
  },
  {
   "cell_type": "code",
   "execution_count": 2,
   "metadata": {},
   "outputs": [
    {
     "data": {
      "text/plain": [
       "[(1015.64417177914, 'TGAGTCAT'),\n",
       " (1015.64417177914, 'ATGACTCA'),\n",
       " (850.593891402715, 'TGACTCAT'),\n",
       " (850.593891402715, 'ATGAGTCA'),\n",
       " (772.238372093023, 'TGACGCAT'),\n",
       " (772.238372093023, 'ATGCGTCA'),\n",
       " (745.638460537446, 'TGACTCAC'),\n",
       " (745.638460537446, 'GTGAGTCA'),\n",
       " (675.65543071161, 'TGAGTCAC'),\n",
       " (675.65543071161, 'GTGACTCA')]"
      ]
     },
     "execution_count": 2,
     "metadata": {},
     "output_type": "execute_result"
    }
   ],
   "source": [
    "# what is highest site\n",
    "sorted([(aff,seq) for seq,aff in seq2rawaff.items()],reverse=True)[:10]"
   ]
  },
  {
   "cell_type": "code",
   "execution_count": 3,
   "metadata": {},
   "outputs": [
    {
     "data": {
      "text/plain": [
       "[(1015.64417177914, 'TGAGTCAT'),\n",
       " (1015.64417177914, 'ATGACTCA'),\n",
       " (850.593891402715, 'TGACTCAT'),\n",
       " (850.593891402715, 'ATGAGTCA'),\n",
       " (745.638460537446, 'TGACTCAC'),\n",
       " (745.638460537446, 'GTGAGTCA'),\n",
       " (675.65543071161, 'TGAGTCAC'),\n",
       " (675.65543071161, 'GTGACTCA'),\n",
       " (504.628507311564, 'TGAGTCAG'),\n",
       " (504.628507311564, 'CTGACTCA')]"
      ]
     },
     "execution_count": 3,
     "metadata": {},
     "output_type": "execute_result"
    }
   ],
   "source": [
    "# what is highest site ggaa\n",
    "pattern='TGANTMA'\n",
    "patternList=hf.IupacToAllPossibleSequences(pattern)\n",
    "sortedAffs=[]\n",
    "for seq,aff in seq2rawaff.items():\n",
    "    for p in patternList: \n",
    "        if p in seq:\n",
    "            sortedAffs.append((aff,seq))\n",
    "            \n",
    "sortedAffs=sorted(sortedAffs,reverse=True)\n",
    "sortedAffs[:10]"
   ]
  },
  {
   "cell_type": "code",
   "execution_count": 5,
   "metadata": {},
   "outputs": [
    {
     "name": "stdout",
     "output_type": "stream",
     "text": [
      "AAAAAAAC 0.28640095325611686\n"
     ]
    }
   ],
   "source": [
    "# We will use the highest as which constains the motif we expect(TGAGTCAT)\n",
    "max8mer='TGAGTCAT'\n",
    "maxAff=seq2rawaff[max8mer]\n",
    "seq2aff={seq:aff/maxAff for seq,aff in seq2rawaff.items()}\n",
    "\n",
    "line_out=''\n",
    "for seq,aff in seq2aff.items():\n",
    "    line_out+=hf.write_row([seq,aff])\n",
    "    \n",
    "bn=fn.split('.txt')[0]\n",
    "with open(f'parsed_{bn}_core={pattern}_max={max8mer}.txt','w') as f: f.write(line_out)\n",
    "    \n",
    "hf.dprint(seq2aff)"
   ]
  }
 ],
 "metadata": {
  "kernelspec": {
   "display_name": "Python 3 (ipykernel)",
   "language": "python",
   "name": "python3"
  },
  "language_info": {
   "codemirror_mode": {
    "name": "ipython",
    "version": 3
   },
   "file_extension": ".py",
   "mimetype": "text/x-python",
   "name": "python",
   "nbconvert_exporter": "python",
   "pygments_lexer": "ipython3",
   "version": "3.9.7"
  }
 },
 "nbformat": 4,
 "nbformat_minor": 4
}

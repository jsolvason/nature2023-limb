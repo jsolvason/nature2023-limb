{
 "cells": [
  {
   "cell_type": "code",
   "execution_count": 4,
   "metadata": {},
   "outputs": [],
   "source": [
    "\n",
    "input_ref_file = \"affinity-raw-data/Ets1_8mers.txt\"\n",
    "output_parsed_file = \"parsed_Ets1_8mers.txt\"\n",
    "\n",
    "ets2intensity={}\n",
    "Ets_maxIntensity=0\n",
    "for line in open(input_ref_file).read().rstrip().split(\"\\n\"): \n",
    "    a=line.split(\"\\t\")\n",
    "    intensity=float(a[3])\n",
    "    ets2intensity[a[0]]=intensity\n",
    "    ets2intensity[a[1]]=intensity\n",
    "    if a[0]==\"CCGGAAGT\" or a[1]==\"CCGGAAGT\":\n",
    "        Ets_maxIntensity=intensity\n",
    "\n",
    "###############################\n",
    "# Write data to file\n",
    "###############################\n",
    "\n",
    "line_out=''\n",
    "for this_8mer in ets2intensity:\n",
    "    \n",
    "    this_intensity = str(min(1.0,ets2intensity[this_8mer]/Ets_maxIntensity))\n",
    "    \n",
    "    line_out+=f'{this_8mer}\\t{this_intensity}\\n'\n",
    "    \n",
    "with open(output_parsed_file,'w') as f: f.write(line_out)"
   ]
  }
 ],
 "metadata": {
  "kernelspec": {
   "display_name": "Python 3 (ipykernel)",
   "language": "python",
   "name": "python3"
  },
  "language_info": {
   "codemirror_mode": {
    "name": "ipython",
    "version": 3
   },
   "file_extension": ".py",
   "mimetype": "text/x-python",
   "name": "python",
   "nbconvert_exporter": "python",
   "pygments_lexer": "ipython3",
   "version": "3.9.7"
  }
 },
 "nbformat": 4,
 "nbformat_minor": 4
}

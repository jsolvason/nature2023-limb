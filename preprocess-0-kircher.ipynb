{
 "cells": [
  {
   "cell_type": "code",
   "execution_count": 32,
   "id": "931ce418-9d4a-40a6-8df2-622fe2599497",
   "metadata": {},
   "outputs": [],
   "source": [
    "import pandas as pd\n",
    "import statsmodels.api as sm\n"
   ]
  },
  {
   "cell_type": "markdown",
   "id": "dc83f874-0586-47ac-a8b1-aa298072d604",
   "metadata": {},
   "source": [
    "# Load data"
   ]
  },
  {
   "cell_type": "code",
   "execution_count": 33,
   "id": "f5728d6b-6880-4a6f-aefb-cc8935aa3df6",
   "metadata": {},
   "outputs": [
    {
     "data": {
      "text/html": [
       "<div>\n",
       "<style scoped>\n",
       "    .dataframe tbody tr th:only-of-type {\n",
       "        vertical-align: middle;\n",
       "    }\n",
       "\n",
       "    .dataframe tbody tr th {\n",
       "        vertical-align: top;\n",
       "    }\n",
       "\n",
       "    .dataframe thead th {\n",
       "        text-align: right;\n",
       "    }\n",
       "</style>\n",
       "<table border=\"1\" class=\"dataframe\">\n",
       "  <thead>\n",
       "    <tr style=\"text-align: right;\">\n",
       "      <th></th>\n",
       "      <th>Chromosome</th>\n",
       "      <th>Position</th>\n",
       "      <th>Ref</th>\n",
       "      <th>Alt</th>\n",
       "      <th>Tags</th>\n",
       "      <th>DNA</th>\n",
       "      <th>RNA</th>\n",
       "      <th>Value</th>\n",
       "      <th>P-Value</th>\n",
       "      <th>Element</th>\n",
       "    </tr>\n",
       "  </thead>\n",
       "  <tbody>\n",
       "    <tr>\n",
       "      <th>0</th>\n",
       "      <td>2</td>\n",
       "      <td>60494940</td>\n",
       "      <td>C</td>\n",
       "      <td>-</td>\n",
       "      <td>32</td>\n",
       "      <td>577</td>\n",
       "      <td>1345</td>\n",
       "      <td>-0.34</td>\n",
       "      <td>0.00546</td>\n",
       "      <td>BCL11A</td>\n",
       "    </tr>\n",
       "    <tr>\n",
       "      <th>1</th>\n",
       "      <td>2</td>\n",
       "      <td>60494940</td>\n",
       "      <td>C</td>\n",
       "      <td>A</td>\n",
       "      <td>146</td>\n",
       "      <td>2785</td>\n",
       "      <td>6772</td>\n",
       "      <td>-0.05</td>\n",
       "      <td>0.38889</td>\n",
       "      <td>BCL11A</td>\n",
       "    </tr>\n",
       "    <tr>\n",
       "      <th>2</th>\n",
       "      <td>2</td>\n",
       "      <td>60494940</td>\n",
       "      <td>C</td>\n",
       "      <td>G</td>\n",
       "      <td>60</td>\n",
       "      <td>975</td>\n",
       "      <td>2436</td>\n",
       "      <td>-0.13</td>\n",
       "      <td>0.13721</td>\n",
       "      <td>BCL11A</td>\n",
       "    </tr>\n",
       "    <tr>\n",
       "      <th>3</th>\n",
       "      <td>2</td>\n",
       "      <td>60494940</td>\n",
       "      <td>C</td>\n",
       "      <td>T</td>\n",
       "      <td>1084</td>\n",
       "      <td>8543</td>\n",
       "      <td>16057</td>\n",
       "      <td>-0.70</td>\n",
       "      <td>0.00000</td>\n",
       "      <td>BCL11A</td>\n",
       "    </tr>\n",
       "    <tr>\n",
       "      <th>4</th>\n",
       "      <td>2</td>\n",
       "      <td>60494941</td>\n",
       "      <td>C</td>\n",
       "      <td>A</td>\n",
       "      <td>596</td>\n",
       "      <td>9425</td>\n",
       "      <td>23430</td>\n",
       "      <td>-0.08</td>\n",
       "      <td>0.00413</td>\n",
       "      <td>BCL11A</td>\n",
       "    </tr>\n",
       "  </tbody>\n",
       "</table>\n",
       "</div>"
      ],
      "text/plain": [
       "  Chromosome  Position Ref Alt  Tags   DNA    RNA  Value  P-Value Element\n",
       "0          2  60494940   C   -    32   577   1345  -0.34  0.00546  BCL11A\n",
       "1          2  60494940   C   A   146  2785   6772  -0.05  0.38889  BCL11A\n",
       "2          2  60494940   C   G    60   975   2436  -0.13  0.13721  BCL11A\n",
       "3          2  60494940   C   T  1084  8543  16057  -0.70  0.00000  BCL11A\n",
       "4          2  60494941   C   A   596  9425  23430  -0.08  0.00413  BCL11A"
      ]
     },
     "execution_count": 33,
     "metadata": {},
     "output_type": "execute_result"
    }
   ],
   "source": [
    "fn='/Users/joe/code/projects/ets/4-ets-opt-in-pub-mpra/data/saturation-kircher-2019/GRCh38_ALL.tsv'\n",
    "df=pd.read_csv(fn,sep='\\t')\n",
    "df.head()"
   ]
  },
  {
   "cell_type": "code",
   "execution_count": 35,
   "id": "41989224-d054-4023-8e0a-b103cfcb3951",
   "metadata": {},
   "outputs": [
    {
     "data": {
      "text/html": [
       "<div>\n",
       "<style scoped>\n",
       "    .dataframe tbody tr th:only-of-type {\n",
       "        vertical-align: middle;\n",
       "    }\n",
       "\n",
       "    .dataframe tbody tr th {\n",
       "        vertical-align: top;\n",
       "    }\n",
       "\n",
       "    .dataframe thead th {\n",
       "        text-align: right;\n",
       "    }\n",
       "</style>\n",
       "<table border=\"1\" class=\"dataframe\">\n",
       "  <thead>\n",
       "    <tr style=\"text-align: right;\">\n",
       "      <th></th>\n",
       "      <th>Chromosome</th>\n",
       "      <th>Position</th>\n",
       "      <th>Ref</th>\n",
       "      <th>Alt</th>\n",
       "      <th>Tags</th>\n",
       "      <th>DNA</th>\n",
       "      <th>RNA</th>\n",
       "      <th>Value</th>\n",
       "      <th>P-Value</th>\n",
       "      <th>Element</th>\n",
       "    </tr>\n",
       "  </thead>\n",
       "  <tbody>\n",
       "    <tr>\n",
       "      <th>0</th>\n",
       "      <td>2</td>\n",
       "      <td>60494940</td>\n",
       "      <td>C</td>\n",
       "      <td>-</td>\n",
       "      <td>32</td>\n",
       "      <td>577</td>\n",
       "      <td>1345</td>\n",
       "      <td>-0.34</td>\n",
       "      <td>0.020485</td>\n",
       "      <td>BCL11A</td>\n",
       "    </tr>\n",
       "    <tr>\n",
       "      <th>1</th>\n",
       "      <td>2</td>\n",
       "      <td>60494940</td>\n",
       "      <td>C</td>\n",
       "      <td>A</td>\n",
       "      <td>146</td>\n",
       "      <td>2785</td>\n",
       "      <td>6772</td>\n",
       "      <td>-0.05</td>\n",
       "      <td>0.591536</td>\n",
       "      <td>BCL11A</td>\n",
       "    </tr>\n",
       "    <tr>\n",
       "      <th>2</th>\n",
       "      <td>2</td>\n",
       "      <td>60494940</td>\n",
       "      <td>C</td>\n",
       "      <td>G</td>\n",
       "      <td>60</td>\n",
       "      <td>975</td>\n",
       "      <td>2436</td>\n",
       "      <td>-0.13</td>\n",
       "      <td>0.289893</td>\n",
       "      <td>BCL11A</td>\n",
       "    </tr>\n",
       "    <tr>\n",
       "      <th>3</th>\n",
       "      <td>2</td>\n",
       "      <td>60494940</td>\n",
       "      <td>C</td>\n",
       "      <td>T</td>\n",
       "      <td>1084</td>\n",
       "      <td>8543</td>\n",
       "      <td>16057</td>\n",
       "      <td>-0.70</td>\n",
       "      <td>0.000000</td>\n",
       "      <td>BCL11A</td>\n",
       "    </tr>\n",
       "    <tr>\n",
       "      <th>4</th>\n",
       "      <td>2</td>\n",
       "      <td>60494941</td>\n",
       "      <td>C</td>\n",
       "      <td>A</td>\n",
       "      <td>596</td>\n",
       "      <td>9425</td>\n",
       "      <td>23430</td>\n",
       "      <td>-0.08</td>\n",
       "      <td>0.015990</td>\n",
       "      <td>BCL11A</td>\n",
       "    </tr>\n",
       "  </tbody>\n",
       "</table>\n",
       "</div>"
      ],
      "text/plain": [
       "  Chromosome  Position Ref Alt  Tags   DNA    RNA  Value   P-Value Element\n",
       "0          2  60494940   C   -    32   577   1345  -0.34  0.020485  BCL11A\n",
       "1          2  60494940   C   A   146  2785   6772  -0.05  0.591536  BCL11A\n",
       "2          2  60494940   C   G    60   975   2436  -0.13  0.289893  BCL11A\n",
       "3          2  60494940   C   T  1084  8543  16057  -0.70  0.000000  BCL11A\n",
       "4          2  60494941   C   A   596  9425  23430  -0.08  0.015990  BCL11A"
      ]
     },
     "execution_count": 35,
     "metadata": {},
     "output_type": "execute_result"
    }
   ],
   "source": [
    "# correct p values\n",
    "df['P-Value']=sm.stats.multipletests(df['P-Value'],method='fdr_bh')[1]\n",
    "df.head()"
   ]
  },
  {
   "cell_type": "code",
   "execution_count": 37,
   "id": "ca821503-2663-4853-8bdb-06ff92798acf",
   "metadata": {},
   "outputs": [
    {
     "data": {
      "text/plain": [
       "array(['BCL11A', 'F9', 'FOXE1', 'GP1BA', 'HBB', 'HBG1', 'HNF4A', 'IRF4',\n",
       "       'IRF6', 'LDLR', 'LDLR.2', 'MSMB', 'MYCrs11986220', 'MYCrs6983267',\n",
       "       'PKLR-24h', 'PKLR-48h', 'RET', 'SORT1', 'SORT1-flip', 'SORT1.2',\n",
       "       'TCF7L2', 'TERT-GAa', 'TERT-GBM', 'TERT-GSc', 'TERT-HEK', 'UC88',\n",
       "       'ZFAND3', 'ZRSh-13', 'ZRSh-13h2'], dtype=object)"
      ]
     },
     "execution_count": 37,
     "metadata": {},
     "output_type": "execute_result"
    }
   ],
   "source": [
    "df['Element'].unique()"
   ]
  },
  {
   "cell_type": "code",
   "execution_count": 38,
   "id": "73afe423-9e77-400d-8e6e-eefd14eeef33",
   "metadata": {},
   "outputs": [],
   "source": [
    "df['chrom']=df.Chromosome.apply(lambda s: f'chr{s}')\n",
    "df['pos']=df.Position\n",
    "df['ref']=df.Ref\n",
    "df['alt']=df.Alt\n",
    "df['effect']=df.Value\n",
    "df['p-value']=df['P-Value']\n",
    "df['cse']=df.apply(lambda row: '_'.join([row['chrom'],str(row['pos']),row['ref'],row['alt']]),axis=1)"
   ]
  },
  {
   "cell_type": "code",
   "execution_count": 39,
   "id": "5aa4b043-3e69-46f5-91db-a317753a4d57",
   "metadata": {},
   "outputs": [
    {
     "data": {
      "text/plain": [
       "['Chromosome',\n",
       " 'Position',\n",
       " 'Ref',\n",
       " 'Alt',\n",
       " 'Tags',\n",
       " 'DNA',\n",
       " 'RNA',\n",
       " 'Value',\n",
       " 'P-Value',\n",
       " 'Element',\n",
       " 'chrom',\n",
       " 'pos',\n",
       " 'ref',\n",
       " 'alt',\n",
       " 'effect',\n",
       " 'p-value',\n",
       " 'cse']"
      ]
     },
     "execution_count": 39,
     "metadata": {},
     "output_type": "execute_result"
    }
   ],
   "source": [
    "df.columns.tolist()"
   ]
  },
  {
   "cell_type": "code",
   "execution_count": 40,
   "id": "9a5663dd-89b8-46b8-b114-4b81e48157b6",
   "metadata": {},
   "outputs": [
    {
     "data": {
      "text/plain": [
       "array(['BCL11A', 'F9', 'FOXE1', 'GP1BA', 'HBB', 'HBG1', 'HNF4A', 'IRF4',\n",
       "       'IRF6', 'LDLR', 'LDLR.2', 'MSMB', 'MYCrs11986220', 'MYCrs6983267',\n",
       "       'PKLR-24h', 'PKLR-48h', 'RET', 'SORT1', 'SORT1-flip', 'SORT1.2',\n",
       "       'TCF7L2', 'TERT-GAa', 'TERT-GBM', 'TERT-GSc', 'TERT-HEK', 'UC88',\n",
       "       'ZFAND3', 'ZRSh-13', 'ZRSh-13h2'], dtype=object)"
      ]
     },
     "execution_count": 40,
     "metadata": {},
     "output_type": "execute_result"
    }
   ],
   "source": [
    "df.Element.unique()"
   ]
  },
  {
   "cell_type": "code",
   "execution_count": 43,
   "id": "ef723c81-2e42-49b3-a06d-9a7db61c3f97",
   "metadata": {},
   "outputs": [],
   "source": [
    "outcols=[\n",
    " 'cse',\n",
    " 'chrom',\n",
    " 'pos',\n",
    " 'ref',\n",
    " 'alt',\n",
    " 'effect',\n",
    " 'p-value',\n",
    " 'Element']\n",
    "df.loc[:,outcols].to_csv(f'kircher-hg38-allens-correctPvals=True.tsv',index=None,sep='\\t')\n",
    "df.loc[df.Element.isin(['ZRSh-13','ZRSh-13h2']),outcols].to_csv(f'kircher-hg38-zrs-correctPvals=True.tsv',index=None,sep='\\t')\n"
   ]
  },
  {
   "cell_type": "code",
   "execution_count": 44,
   "id": "a35b968f-810a-40ad-b9db-ede633af7a1e",
   "metadata": {},
   "outputs": [
    {
     "data": {
      "text/html": [
       "<div>\n",
       "<style scoped>\n",
       "    .dataframe tbody tr th:only-of-type {\n",
       "        vertical-align: middle;\n",
       "    }\n",
       "\n",
       "    .dataframe tbody tr th {\n",
       "        vertical-align: top;\n",
       "    }\n",
       "\n",
       "    .dataframe thead th {\n",
       "        text-align: right;\n",
       "    }\n",
       "</style>\n",
       "<table border=\"1\" class=\"dataframe\">\n",
       "  <thead>\n",
       "    <tr style=\"text-align: right;\">\n",
       "      <th></th>\n",
       "      <th>Chromosome</th>\n",
       "      <th>Position</th>\n",
       "      <th>Ref</th>\n",
       "      <th>Alt</th>\n",
       "      <th>Tags</th>\n",
       "      <th>DNA</th>\n",
       "      <th>RNA</th>\n",
       "      <th>Value</th>\n",
       "      <th>P-Value</th>\n",
       "      <th>Element</th>\n",
       "      <th>chrom</th>\n",
       "      <th>pos</th>\n",
       "      <th>ref</th>\n",
       "      <th>alt</th>\n",
       "      <th>effect</th>\n",
       "      <th>p-value</th>\n",
       "      <th>cse</th>\n",
       "    </tr>\n",
       "  </thead>\n",
       "  <tbody>\n",
       "    <tr>\n",
       "      <th>0</th>\n",
       "      <td>2</td>\n",
       "      <td>60494940</td>\n",
       "      <td>C</td>\n",
       "      <td>-</td>\n",
       "      <td>32</td>\n",
       "      <td>577</td>\n",
       "      <td>1345</td>\n",
       "      <td>-0.34</td>\n",
       "      <td>0.020485</td>\n",
       "      <td>BCL11A</td>\n",
       "      <td>chr2</td>\n",
       "      <td>60494940</td>\n",
       "      <td>C</td>\n",
       "      <td>-</td>\n",
       "      <td>-0.34</td>\n",
       "      <td>0.020485</td>\n",
       "      <td>chr2_60494940_C_-</td>\n",
       "    </tr>\n",
       "  </tbody>\n",
       "</table>\n",
       "</div>"
      ],
      "text/plain": [
       "  Chromosome  Position Ref Alt  Tags  DNA   RNA  Value   P-Value Element  \\\n",
       "0          2  60494940   C   -    32  577  1345  -0.34  0.020485  BCL11A   \n",
       "\n",
       "  chrom       pos ref alt  effect   p-value                cse  \n",
       "0  chr2  60494940   C   -   -0.34  0.020485  chr2_60494940_C_-  "
      ]
     },
     "execution_count": 44,
     "metadata": {},
     "output_type": "execute_result"
    }
   ],
   "source": [
    "df.head(1)"
   ]
  },
  {
   "cell_type": "code",
   "execution_count": 46,
   "id": "3122912a-486d-40b5-bc1a-5e2ed5d90d2d",
   "metadata": {},
   "outputs": [],
   "source": [
    "noDels=(df.Alt!='-')\n",
    "outcols=[\n",
    " 'cse',\n",
    " 'chrom',\n",
    " 'pos',\n",
    " 'ref',\n",
    " 'alt',\n",
    " 'effect',\n",
    " 'p-value',\n",
    " 'Element']\n",
    "df.loc[(noDels),outcols].to_csv(f'kircher-hg38-allens-nodels-correctPvals=True.tsv',index=None,sep='\\t')\n",
    "df.loc[df.Element.isin(['ZRSh-13','ZRSh-13h2']) & (noDels),outcols].to_csv(f'kircher-hg38-zrs-nodels-correctPvals=True.tsv',index=None,sep='\\t')\n"
   ]
  }
 ],
 "metadata": {
  "kernelspec": {
   "display_name": "Python 3 (ipykernel)",
   "language": "python",
   "name": "python3"
  },
  "language_info": {
   "codemirror_mode": {
    "name": "ipython",
    "version": 3
   },
   "file_extension": ".py",
   "mimetype": "text/x-python",
   "name": "python",
   "nbconvert_exporter": "python",
   "pygments_lexer": "ipython3",
   "version": "3.9.7"
  }
 },
 "nbformat": 4,
 "nbformat_minor": 5
}

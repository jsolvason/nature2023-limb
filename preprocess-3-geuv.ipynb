{
 "cells": [
  {
   "cell_type": "code",
   "execution_count": null,
   "id": "60b5d773-4685-4fb8-bbbf-85defcaac155",
   "metadata": {},
   "outputs": [],
   "source": [
    "import pandas as pd\n",
    "import scipy.stats as stats\n",
    "\n",
    "import helper_functions as hf"
   ]
  },
  {
   "cell_type": "code",
   "execution_count": null,
   "id": "50030cfc-8ba7-4afa-84c4-15d04db8bfc6",
   "metadata": {},
   "outputs": [],
   "source": [
    "fn='/Users/joe/code/projects/ets/4-ets-opt-in-pub-mpra/8-tewhey-and-gtex/data//geuvadis/QTD000110.all.tsv'\n"
   ]
  },
  {
   "cell_type": "code",
   "execution_count": null,
   "id": "32fe84f0-02dd-4de1-ba16-66296ece007a",
   "metadata": {},
   "outputs": [],
   "source": [
    "\n",
    "pvalCorrFactor=!wc -l {fn}\n",
    "pvalCorrFactor=int(pvalCorrFactor[0].split(' ')[1])\n",
    "print('universal adjust factor -',pvalCorrFactor)\n"
   ]
  },
  {
   "cell_type": "code",
   "execution_count": null,
   "id": "6c8847c9-cf43-469a-ae8f-53074815e84e",
   "metadata": {},
   "outputs": [],
   "source": [
    "\n",
    "\n",
    "sigthresh=.05\n",
    "\n",
    "c2v={c:[] for c in ['chrom','pos','rsid','ref','alt','beta','pvalue-bonf','gene-id']}\n",
    "\n",
    "for line in hf.read_tsv(fn,pc=True,header=True):\n",
    "    \n",
    "    pval=float(line[8])\n",
    "    \n",
    "    gene=line[16]\n",
    "    rsid=line[18]\n",
    "    \n",
    "    pvalCorr=min([1,pval*pvalCorrFactor])\n",
    "    \n",
    "\n",
    "\n",
    "    if pvalCorr<sigthresh:\n",
    "\n",
    "        chrom,pos,ref,alt=line[1],line[2],line[3],line[4]\n",
    "        pos=int(pos)\n",
    "\n",
    "        beta=float(line[9])\n",
    "\n",
    "        c2v['chrom'].append(chrom)\n",
    "        c2v['pos'].append(pos)\n",
    "        c2v['rsid'].append(rsid)\n",
    "        c2v['ref'].append(ref)\n",
    "        c2v['alt'].append(alt)\n",
    "        c2v['beta'].append(beta)\n",
    "        c2v['pvalue-bonf'].append(pvalCorr)\n",
    "        c2v['gene-id'].append(gene)"
   ]
  },
  {
   "cell_type": "code",
   "execution_count": null,
   "id": "77039b1c-2f26-47b5-a61a-ab4951301709",
   "metadata": {},
   "outputs": [],
   "source": [
    "df=pd.DataFrame(c2v)\n",
    "df.head()"
   ]
  },
  {
   "cell_type": "code",
   "execution_count": null,
   "id": "5e8fd0e5-0888-461a-96e6-e3fdfae47115",
   "metadata": {},
   "outputs": [],
   "source": [
    "df.to_csv(f'data/geuvadis/QTD000110__readyForInput__matteoCorrMethod_keepOnlyTewheyMPRAVariants={keepOnlyTewheyMPRAVariants}_removeMixedGofLofVariants={removeMixedGofLofVariants}_genomeWideSigAdj={genomeWideSigAdj}.tsv',sep='\\t',index=False)"
   ]
  }
 ],
 "metadata": {
  "kernelspec": {
   "display_name": "Python 3 (ipykernel)",
   "language": "python",
   "name": "python3"
  },
  "language_info": {
   "codemirror_mode": {
    "name": "ipython",
    "version": 3
   },
   "file_extension": ".py",
   "mimetype": "text/x-python",
   "name": "python",
   "nbconvert_exporter": "python",
   "pygments_lexer": "ipython3",
   "version": "3.9.7"
  }
 },
 "nbformat": 4,
 "nbformat_minor": 5
}

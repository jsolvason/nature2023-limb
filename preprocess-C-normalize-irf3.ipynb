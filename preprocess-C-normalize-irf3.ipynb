{
 "cells": [
  {
   "cell_type": "code",
   "execution_count": 2,
   "id": "aa6a4fc5-0176-4ab6-9a39-6ec04aa8ecb0",
   "metadata": {},
   "outputs": [
    {
     "name": "stdout",
     "output_type": "stream",
     "text": [
      "AAAAAAAA\tTTTTTTTT\t7995.054549949760258\t0.129841876260214\t1.999156635308800\t0.039457684824903\t0.097625851167315\t0.561418685121107\t0.566202397743300\n",
      "AAAAAAAC\tGTTTTTTT\t6757.792634428919882\t0.176337615613608\t1.126090932567346\t0.148367582684825\t0.035177529182879\t0.883704508419337\t0.307112526539278\n",
      "AAAAAAAG\tCTTTTTTT\t9373.789361195700621\t0.238726239373388\t2.825316932005687\t0.008320160505837\t0.005105483949416\t0.243505338078292\t0.082938271604938\n",
      "AAAAAAAT\tATTTTTTT\t6745.738192418890321\t0.110272696881417\t1.116819652649546\t0.150240150778210\t0.138433244163424\t0.885082378223496\t0.682846003898635\n",
      "AAAAAACA\tTGTTTTTT\t6265.572048334929605\t0.054216529018484\t0.733370679613801\t0.241766476167315\t0.302213035019455\t0.976565569744597\t0.980337244847648\n",
      "AAAAAACC\tGGTTTTTT\t6436.421542398839847\t0.221848779624547\t0.873074346927145\t0.205778818093385\t0.009221485894942\t0.957874628555257\t0.124323770491803\n",
      "AAAAAACG\tCGTTTTTT\t8635.742959582330514\t0.216961354575664\t2.399459394775498\t0.018985590953307\t0.010793105544747\t0.387197768133912\t0.138799843627834\n",
      "AAAAAACT\tAGTTTTTT\t5756.152393540660341\t-0.034948328216249\t0.293009646803169\t0.386898103112840\t0.634488995622568\t1.011958336646259\t1.206134065299046\n",
      "AAAAAAGA\tTCTTTTTT\t8426.410915079490223\t0.193178923909583\t2.272031807865107\t0.023952760214008\t0.022472337062257\t0.430338612779902\t0.229153750774954\n",
      "AAAAAAGC\tGCTTTTTT\t6652.619338195399905\t0.147758301028148\t1.044636996350609\t0.165158377918288\t0.068284897859922\t0.910516172280878\t0.460590526963297\n"
     ]
    }
   ],
   "source": [
    "\n",
    "import matplotlib.pyplot as plt\n",
    "\n",
    "fn='affinity-raw-data/Irf3_3985.1_v1_contig8mers.txt'\n",
    "!head {fn}"
   ]
  },
  {
   "cell_type": "code",
   "execution_count": 5,
   "id": "3cc2f110-757e-47ff-b3d6-a3042b4e1933",
   "metadata": {},
   "outputs": [
    {
     "name": "stdout",
     "output_type": "stream",
     "text": [
      "0 AAAAAAAA\n",
      "1 TTTTTTTT\n",
      "2 7995.054549949760258\n",
      "3 0.129841876260214\n",
      "4 1.999156635308800\n",
      "5 0.039457684824903\n",
      "6 0.097625851167315\n",
      "7 0.561418685121107\n",
      "8 0.566202397743300\n",
      "\n"
     ]
    },
    {
     "data": {
      "text/plain": [
       "65534"
      ]
     },
     "execution_count": 5,
     "metadata": {},
     "output_type": "execute_result"
    }
   ],
   "source": [
    "seq2rawaff={}\n",
    "header=True\n",
    "for row in hf.read_tsv(fn,pc=True,header=header):\n",
    "    fwd,rev=row[:2]\n",
    "    medInt=row[2]\n",
    "    seq2rawaff[fwd]=float(medInt)\n",
    "    seq2rawaff[rev]=float(medInt)    \n",
    "    \n",
    "len(seq2rawaff)"
   ]
  },
  {
   "cell_type": "code",
   "execution_count": 6,
   "id": "c9c90bdf-3523-4521-b037-b0ef3058739a",
   "metadata": {},
   "outputs": [
    {
     "data": {
      "text/plain": [
       "[(95520.7193167042, 'GTTTCGAT'),\n",
       " (95520.7193167042, 'ATCGAAAC'),\n",
       " (85389.7684253167, 'TTCGAAAC'),\n",
       " (85389.7684253167, 'GTTTCGAA'),\n",
       " (83008.8777070272, 'TAGTTTCC'),\n",
       " (83008.8777070272, 'GGAAACTA'),\n",
       " (82321.6181960689, 'TTTCCTTT'),\n",
       " (82321.6181960689, 'AAAGGAAA'),\n",
       " (78208.4831630633, 'GGAAACCG'),\n",
       " (78208.4831630633, 'CGGTTTCC')]"
      ]
     },
     "execution_count": 6,
     "metadata": {},
     "output_type": "execute_result"
    }
   ],
   "source": [
    "# what is highest site\n",
    "sorted([(aff,seq) for seq,aff in seq2rawaff.items()],reverse=True)[:10]"
   ]
  },
  {
   "cell_type": "code",
   "execution_count": 8,
   "id": "def0b331-5791-4385-a668-d70f4de95cf0",
   "metadata": {},
   "outputs": [
    {
     "data": {
      "text/plain": [
       "[(82321.6181960689, 'AAAGGAAA'),\n",
       " (47648.2927166556, 'TTTCGAAA'),\n",
       " (42108.4530402945, 'TTTGGAAA'),\n",
       " (38516.9827502866, 'AAAGGATA'),\n",
       " (33326.3594128234, 'TTTCGATA'),\n",
       " (33326.3594128234, 'TATCGAAA'),\n",
       " (32482.7130718506, 'ATTCGAAA'),\n",
       " (31508.6212462866, 'AATCGAAA'),\n",
       " (29464.3656240523, 'TTCCGAAA'),\n",
       " (27708.6632863979, 'AAACGAAA')]"
      ]
     },
     "execution_count": 8,
     "metadata": {},
     "output_type": "execute_result"
    }
   ],
   "source": [
    "# what is highest site ggaa\n",
    "pattern='NWNNGANA'\n",
    "patternList=hf.IupacToAllPossibleSequences(pattern)\n",
    "sortedAffs=[]\n",
    "for seq,aff in seq2rawaff.items():\n",
    "    for p in patternList: \n",
    "        if p in seq:\n",
    "            sortedAffs.append((aff,seq))\n",
    "            \n",
    "sortedAffs=sorted(sortedAffs,reverse=True)\n",
    "sortedAffs[:10]"
   ]
  },
  {
   "cell_type": "code",
   "execution_count": 9,
   "id": "ef7963b1-ea3d-401d-8120-b55791fe4076",
   "metadata": {},
   "outputs": [
    {
     "name": "stdout",
     "output_type": "stream",
     "text": [
      "AAAAAAAC 0.08209013358233068\n"
     ]
    }
   ],
   "source": [
    "# We will use the highest as which constains the motif we expect(TGAGTCAT)\n",
    "\n",
    "max8mer='AAAGGAAA'\n",
    "\n",
    "maxAff=seq2rawaff[max8mer]\n",
    "seq2aff={seq:min(1,aff/maxAff) for seq,aff in seq2rawaff.items()}\n",
    "\n",
    "line_out=''\n",
    "for seq,aff in seq2aff.items():\n",
    "    line_out+=hf.write_row([seq,aff])\n",
    "\n",
    "bn=fn.split('/')[-1].split('.txt')[0]\n",
    "with open(f'parsed_{bn}_core={pattern}_max={max8mer}.txt','w') as f: f.write(line_out)\n",
    "    \n",
    "hf.dprint(seq2aff)"
   ]
  },
  {
   "cell_type": "code",
   "execution_count": 10,
   "id": "5e9edaeb-99bc-4260-a3be-45060f74f9cb",
   "metadata": {},
   "outputs": [
    {
     "data": {
      "text/plain": [
       "[(1, 'TTTCCTTT'),\n",
       " (1, 'TTCGAAAC'),\n",
       " (1, 'TAGTTTCC'),\n",
       " (1, 'GTTTCGAT'),\n",
       " (1, 'GTTTCGAA'),\n",
       " (1, 'GGAAACTA'),\n",
       " (1, 'ATCGAAAC'),\n",
       " (1, 'AAAGGAAA'),\n",
       " (0.9500357849719478, 'GGAAACCG'),\n",
       " (0.9500357849719478, 'CGGTTTCC')]"
      ]
     },
     "execution_count": 10,
     "metadata": {},
     "output_type": "execute_result"
    }
   ],
   "source": [
    "sorted([(aff,seq) for seq,aff in seq2aff.items() ],reverse=True)[:10]"
   ]
  }
 ],
 "metadata": {
  "kernelspec": {
   "display_name": "Python 3 (ipykernel)",
   "language": "python",
   "name": "python3"
  },
  "language_info": {
   "codemirror_mode": {
    "name": "ipython",
    "version": 3
   },
   "file_extension": ".py",
   "mimetype": "text/x-python",
   "name": "python",
   "nbconvert_exporter": "python",
   "pygments_lexer": "ipython3",
   "version": "3.9.7"
  }
 },
 "nbformat": 4,
 "nbformat_minor": 5
}
